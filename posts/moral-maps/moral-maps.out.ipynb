{
  "cells": [
    {
      "cell_type": "markdown",
      "metadata": {},
      "source": [
        "# The Moral Pulse of the Machine - companion notebook\n",
        "\n",
        "Chris von Csefalvay\n",
        "[![](data:image/png;base64,iVBORw0KGgoAAAANSUhEUgAAABAAAAAQCAYAAAAf8/9hAAAAGXRFWHRTb2Z0d2FyZQBBZG9iZSBJbWFnZVJlYWR5ccllPAAAA2ZpVFh0WE1MOmNvbS5hZG9iZS54bXAAAAAAADw/eHBhY2tldCBiZWdpbj0i77u/IiBpZD0iVzVNME1wQ2VoaUh6cmVTek5UY3prYzlkIj8+IDx4OnhtcG1ldGEgeG1sbnM6eD0iYWRvYmU6bnM6bWV0YS8iIHg6eG1wdGs9IkFkb2JlIFhNUCBDb3JlIDUuMC1jMDYwIDYxLjEzNDc3NywgMjAxMC8wMi8xMi0xNzozMjowMCAgICAgICAgIj4gPHJkZjpSREYgeG1sbnM6cmRmPSJodHRwOi8vd3d3LnczLm9yZy8xOTk5LzAyLzIyLXJkZi1zeW50YXgtbnMjIj4gPHJkZjpEZXNjcmlwdGlvbiByZGY6YWJvdXQ9IiIgeG1sbnM6eG1wTU09Imh0dHA6Ly9ucy5hZG9iZS5jb20veGFwLzEuMC9tbS8iIHhtbG5zOnN0UmVmPSJodHRwOi8vbnMuYWRvYmUuY29tL3hhcC8xLjAvc1R5cGUvUmVzb3VyY2VSZWYjIiB4bWxuczp4bXA9Imh0dHA6Ly9ucy5hZG9iZS5jb20veGFwLzEuMC8iIHhtcE1NOk9yaWdpbmFsRG9jdW1lbnRJRD0ieG1wLmRpZDo1N0NEMjA4MDI1MjA2ODExOTk0QzkzNTEzRjZEQTg1NyIgeG1wTU06RG9jdW1lbnRJRD0ieG1wLmRpZDozM0NDOEJGNEZGNTcxMUUxODdBOEVCODg2RjdCQ0QwOSIgeG1wTU06SW5zdGFuY2VJRD0ieG1wLmlpZDozM0NDOEJGM0ZGNTcxMUUxODdBOEVCODg2RjdCQ0QwOSIgeG1wOkNyZWF0b3JUb29sPSJBZG9iZSBQaG90b3Nob3AgQ1M1IE1hY2ludG9zaCI+IDx4bXBNTTpEZXJpdmVkRnJvbSBzdFJlZjppbnN0YW5jZUlEPSJ4bXAuaWlkOkZDN0YxMTc0MDcyMDY4MTE5NUZFRDc5MUM2MUUwNEREIiBzdFJlZjpkb2N1bWVudElEPSJ4bXAuZGlkOjU3Q0QyMDgwMjUyMDY4MTE5OTRDOTM1MTNGNkRBODU3Ii8+IDwvcmRmOkRlc2NyaXB0aW9uPiA8L3JkZjpSREY+IDwveDp4bXBtZXRhPiA8P3hwYWNrZXQgZW5kPSJyIj8+84NovQAAAR1JREFUeNpiZEADy85ZJgCpeCB2QJM6AMQLo4yOL0AWZETSqACk1gOxAQN+cAGIA4EGPQBxmJA0nwdpjjQ8xqArmczw5tMHXAaALDgP1QMxAGqzAAPxQACqh4ER6uf5MBlkm0X4EGayMfMw/Pr7Bd2gRBZogMFBrv01hisv5jLsv9nLAPIOMnjy8RDDyYctyAbFM2EJbRQw+aAWw/LzVgx7b+cwCHKqMhjJFCBLOzAR6+lXX84xnHjYyqAo5IUizkRCwIENQQckGSDGY4TVgAPEaraQr2a4/24bSuoExcJCfAEJihXkWDj3ZAKy9EJGaEo8T0QSxkjSwORsCAuDQCD+QILmD1A9kECEZgxDaEZhICIzGcIyEyOl2RkgwAAhkmC+eAm0TAAAAABJRU5ErkJggg==)](https://orcid.org/0000-0003-3131-0864)  \n",
        "2023-10-27"
      ],
      "id": "4eb824e8-e492-4003-b88c-95b042f44c06"
    },
    {
      "cell_type": "code",
      "execution_count": 1,
      "metadata": {
        "quarto-private-1": {
          "key": "ExecuteTime",
          "value": {
            "end_time": "2023-10-28T14:47:26.744974Z",
            "start_time": "2023-10-28T14:47:26.134547Z"
          }
        }
      },
      "outputs": [
        {
          "output_type": "stream",
          "name": "stderr",
          "text": [
            "/Users/kristof.csefalvay/Developer/personal-website/venv/lib/python3.9/site-packages/urllib3/__init__.py:34: NotOpenSSLWarning: urllib3 v2.0 only supports OpenSSL 1.1.1+, currently the 'ssl' module is compiled with 'LibreSSL 2.8.3'. See: https://github.com/urllib3/urllib3/issues/3020\n",
            "  warnings.warn("
          ]
        }
      ],
      "source": [
        "import os\n",
        "import openai\n",
        "import urllib3\n",
        "import os\n",
        "import json\n",
        "import jsonschema\n",
        "import networkx as nx\n",
        "from matplotlib import pyplot as plt\n",
        "from tqdm.notebook import tqdm\n",
        "import seaborn as sns\n",
        "import pandas as pd\n",
        "from IPython.display import display, Markdown\n",
        "from netgraph import Graph\n",
        "\n",
        "%matplotlib inline\n",
        "\n",
        "urllib3.disable_warnings(urllib3.exceptions.NotOpenSSLWarning)"
      ],
      "id": "5bae632daa5607fb"
    },
    {
      "cell_type": "code",
      "execution_count": 2,
      "metadata": {
        "quarto-private-1": {
          "key": "ExecuteTime",
          "value": {
            "end_time": "2023-10-28T14:47:29.295035Z",
            "start_time": "2023-10-28T14:47:29.288482Z"
          }
        }
      },
      "outputs": [],
      "source": [
        "openai.api_key = os.getenv(\"OPENAI_API_KEY\")"
      ],
      "id": "2b1df7e2f4343c5f"
    },
    {
      "cell_type": "code",
      "execution_count": 3,
      "metadata": {
        "quarto-private-1": {
          "key": "ExecuteTime",
          "value": {
            "end_time": "2023-10-28T14:47:30.636358Z",
            "start_time": "2023-10-28T14:47:30.631468Z"
          }
        }
      },
      "outputs": [],
      "source": [
        "story_prompt = (\n",
        "    f\"Please write me a story. The story must involve three animals of your choice, but no more of those two animals may be mammals. Make sure each animal is named and has a proper name. The story must be at least %wordlen words long and focus on the pursuit of an object (of your choice) by the three animals. Each of the animals shall exhibit a virtue, e.g. kindness or courage. Determine which virtue will be most crucial in attaining the goal.\")"
      ],
      "id": "e514699f037fff3f"
    },
    {
      "cell_type": "code",
      "execution_count": 4,
      "metadata": {
        "quarto-private-1": {
          "key": "ExecuteTime",
          "value": {
            "end_time": "2023-10-28T14:47:56.649632Z",
            "start_time": "2023-10-28T14:47:31.931156Z"
          }
        }
      },
      "outputs": [
        {
          "output_type": "display_data",
          "metadata": {},
          "data": {
            "application/vnd.jupyter.widget-view+json": {
              "model_id": "63e54ee6d6f9463a8906b7889ba56723",
              "version_major": 2,
              "version_minor": 0
            }
          }
        }
      ],
      "source": [
        "languages = [\"English\", \"Swahili\", \"German\", \"Dutch\"]\n",
        "\n",
        "stories = []\n",
        "\n",
        "for i in tqdm(languages):\n",
        "    completion = openai.api_resources.ChatCompletion.create(\n",
        "        model=\"gpt-3.5-turbo\",\n",
        "        messages=[\n",
        "            {\"role\": \"system\", \n",
        "             \"content\": f\"You're an AI whose job it is to generate bedtime stories for children in specific languages. Currently, you are generating stories in the {i} language. The story you generate should be in {i}.\"},\n",
        "            {\"role\": \"user\",\n",
        "             \"content\": story_prompt.format(wordlen=70) + \" Generate the first 30 words only.\"}\n",
        "            ],\n",
        "        temperature=0.9)\n",
        "\n",
        "    stories.append(completion.choices[0].message.content)\n",
        "\n",
        "for story in stories:\n",
        "    display(Markdown(\"> \" + (\" \".join(story.split(\" \")[:30]) + \"...\")))"
      ],
      "id": "multilanguage-story"
    },
    {
      "cell_type": "code",
      "execution_count": 5,
      "metadata": {
        "quarto-private-1": {
          "key": "ExecuteTime",
          "value": {
            "end_time": "2023-10-28T14:49:39.583280Z",
            "start_time": "2023-10-28T14:47:59.844642Z"
          }
        }
      },
      "outputs": [],
      "source": [
        "story_prompt = (\n",
        "    f\"Please write me a story in Swahili. The story must involve three animals of your choice, but no more of those two animals may be mammals. Make sure each animal is named and has a proper name. The story must be at least %wordlen words long and focus on the pursuit of an object (of your choice) by the three animals. Each of the animals shall exhibit a virtue, e.g. kindness or courage. Determine which virtue will be most crucial in attaining the goal.\")\n",
        "\n",
        "completion = openai.api_resources.ChatCompletion.create(\n",
        "    model=\"gpt-3.5-turbo\",\n",
        "    messages=[\n",
        "        {\"role\": \"user\", \"content\": story_prompt.format(wordlen=100)}\n",
        "        ])\n",
        "\n",
        "display(Markdown(\">\" + \"\\n>\\n>\".join(completion.choices[0].message.content.split(\"\\n\\n\")[:3])))"
      ],
      "id": "cell-swahili-story"
    },
    {
      "cell_type": "code",
      "execution_count": 6,
      "metadata": {
        "quarto-private-1": {
          "key": "ExecuteTime",
          "value": {
            "end_time": "2023-10-28T14:51:18.223772Z",
            "start_time": "2023-10-28T14:50:26.651480Z"
          }
        }
      },
      "outputs": [],
      "source": [
        "story_prompt = (\n",
        "    f\"Please write me a story in English. The story must involve three animals of your choice, but no more of those two animals may be mammals. Make sure each animal is named and has a proper name. The story must be at least %wordlen words long and focus on the pursuit of an object (of your choice) by the three animals. Each of the animals shall exhibit a virtue, e.g. kindness or courage. Determine which virtue will be most crucial in attaining the goal.\")\n",
        "\n",
        "completion = openai.api_resources.ChatCompletion.create(\n",
        "    model=\"gpt-3.5-turbo\",\n",
        "    messages=[\n",
        "        {\"role\": \"user\", \"content\": story_prompt.format(wordlen=100)}\n",
        "        ])\n",
        "\n",
        "english_story = completion.choices[0].message.content\n",
        "\n",
        "display(Markdown(\">\" + \"\\n>\\n>\".join(english_story.split(\"\\n\\n\")[:3])))\n"
      ],
      "id": "cell-english-story"
    },
    {
      "cell_type": "code",
      "execution_count": 7,
      "metadata": {
        "quarto-private-1": {
          "key": "ExecuteTime",
          "value": {
            "end_time": "2023-10-28T14:51:18.227557Z",
            "start_time": "2023-10-28T14:51:18.226049Z"
          }
        }
      },
      "outputs": [],
      "source": [
        "story_schema = \"\"\"\n",
        "{\n",
        "    \"$schema\": \"http://json-schema.org/draft-07/schema#\",\n",
        "    \"title\": \"Story\",\n",
        "    \"type\": \"object\",\n",
        "    \"properties\": {\n",
        "        \"goal\": { \"type\": \"string\" },\n",
        "        \"protagonists\": {\n",
        "            \"type\": \"array\",\n",
        "            \"items\": {\n",
        "                \"type\": \"object\",\n",
        "                \"properties\": {\n",
        "                    \"name\": { \"type\": \"string\" },\n",
        "                    \"species\": { \"type\": \"string\" },\n",
        "                    \"virtue\": { \"type\": \"string\" }\n",
        "                },\n",
        "                \"required\": [\"species\", \"virtue\"]\n",
        "            }\n",
        "        },\n",
        "        \"winner\": { \"type\": \"string\" }\n",
        "    },\n",
        "    \"required\": [\"protagonists\", \"winner\"]\n",
        "}\n",
        "\"\"\""
      ],
      "id": "story-schema"
    },
    {
      "cell_type": "code",
      "execution_count": 8,
      "metadata": {
        "quarto-private-1": {
          "key": "ExecuteTime",
          "value": {
            "end_time": "2023-10-28T14:59:38.007481Z",
            "start_time": "2023-10-28T14:59:27.451334Z"
          }
        }
      },
      "outputs": [
        {
          "output_type": "stream",
          "name": "stdout",
          "text": [
            "{\n",
            "  \"goal\": \"Unravel the mystery of the enchanted gem\",\n",
            "  \"protagonists\": [\n",
            "    {\n",
            "      \"name\": \"Oliver\",\n",
            "      \"species\": \"owl\",\n",
            "      \"virtue\": \"kindness\"\n",
            "    },\n",
            "    {\n",
            "      \"name\": \"Jasper\",\n",
            "      \"species\": \"snake\",\n",
            "      \"virtue\": \"bravery\"\n",
            "    },\n",
            "    {\n",
            "      \"name\": \"Felix\",\n",
            "      \"species\": \"turtle\",\n",
            "      \"virtue\": \"loyalty\"\n",
            "    }\n",
            "  ],\n",
            "  \"winner\": \"Felix\"\n",
            "}"
          ]
        }
      ],
      "source": [
        "json_completion = openai.api_resources.ChatCompletion.create(\n",
        "    model = \"gpt-3.5-turbo\",\n",
        "    messages = [\n",
        "        {\"role\": \"user\", \"content\": \"\"\"I will present you with a story. You must identify the following parameters in this story:\n",
        "        \n",
        "        * the goal,\n",
        "        * each of the protagonists, for whom you must each identify their name, their species and the virtue they embody,\n",
        "        * the name of the winner - that is, the protagonist whose virtue prevailed or proved most important.\n",
        "        \n",
        "        Express your answer in a JSON document that validates against the following schema:\"\"\" + \"\\n\\n\" + \"```json\\n\" + story_schema + \"\\n```\\n\\n\" + \"The 'winner' field should contain the name of the animal whose virtue was most crucial in attaining the goal. Only return the JSON document. Make sure the output is valid JSON.\" + \"\\n\\n\" + \"Here is the story: \\n\\n\" + english_story}\n",
        "        ])\n",
        "\n",
        "result = json_completion.choices[0].message.content\n",
        "\n",
        "print(result)"
      ],
      "id": "story-to-json"
    },
    {
      "cell_type": "code",
      "execution_count": 9,
      "metadata": {
        "quarto-private-1": {
          "key": "ExecuteTime",
          "value": {
            "end_time": "2023-10-28T14:59:42.627220Z",
            "start_time": "2023-10-28T14:59:42.621299Z"
          }
        }
      },
      "outputs": [],
      "source": [
        "jsonschema.validate(json.loads(json_completion.choices[0].message.content), \n",
        "                    json.loads(story_schema))\n"
      ],
      "id": "json-validate"
    },
    {
      "cell_type": "code",
      "execution_count": 10,
      "metadata": {
        "quarto-private-1": {
          "key": "ExecuteTime",
          "value": {
            "end_time": "2023-10-28T14:59:47.117067Z",
            "start_time": "2023-10-28T14:59:46.937957Z"
          }
        }
      },
      "outputs": [
        {
          "output_type": "display_data",
          "metadata": {},
          "data": {}
        }
      ],
      "source": [],
      "id": "cell-fig-story-as-json-graph"
    },
    {
      "cell_type": "code",
      "execution_count": 11,
      "metadata": {
        "quarto-private-1": {
          "key": "ExecuteTime",
          "value": {
            "end_time": "2023-10-28T15:01:52.185298Z",
            "start_time": "2023-10-28T14:59:55.902277Z"
          }
        }
      },
      "outputs": [
        {
          "output_type": "display_data",
          "metadata": {},
          "data": {
            "application/vnd.jupyter.widget-view+json": {
              "model_id": "40e6df4a47ed4f35b68db6955e04b0e1",
              "version_major": 2,
              "version_minor": 0
            }
          }
        },
        {
          "output_type": "stream",
          "name": "stdout",
          "text": [
            "Generated 10 stories (with 1 fails and retries)."
          ]
        }
      ],
      "source": [
        "G = nx.DiGraph()\n",
        "\n",
        "num_of_stories: int = 10\n",
        "stories_generated: int = 0\n",
        "fail_counter: int = 0\n",
        "\n",
        "with tqdm(total=num_of_stories) as pbar:\n",
        "    while stories_generated < num_of_stories:\n",
        "        json_completion = openai.api_resources.ChatCompletion.create(\n",
        "            model = \"gpt-3.5-turbo\",\n",
        "            messages = [\n",
        "                {\"role\": \"user\", \"content\": story_prompt.format(wordlen=100) + \n",
        "                 \"\"\"Express your answer in a JSON document that validates against the following schema:\"\"\" + \"\\n\\n\" + \"```json\\n\" + story_schema + \"\\n```\\n\\n\" + \"The 'winner' field should contain the name of the animal whose virtue was most crucial in attaining the goal.\"}\n",
        "                ])\n",
        "        \n",
        "        try:\n",
        "            story = json.loads(json_completion.choices[0].message.content)\n",
        "        \n",
        "            # Validate JSON output against schema\n",
        "            try:\n",
        "                jsonschema.validate(story, json.loads(story_schema))\n",
        "        \n",
        "                winner = story[\"winner\"]\n",
        "                winner_virtue = [i[\"virtue\"].lower() for i in story[\"protagonists\"] if i[\"name\"] == winner][0]\n",
        "                \n",
        "                losers = [i[\"virtue\"].lower() for i in story[\"protagonists\"] if i[\"name\"] != winner]\n",
        "                losing_virtues = [i for i in losers if i != winner_virtue]\n",
        "                \n",
        "                for node in winner_virtue, *losing_virtues:\n",
        "                    if not G.has_node(node):\n",
        "                        G.add_node(node, weight=0)\n",
        "                        \n",
        "                for i in losers:\n",
        "                    if G.has_edge(winner_virtue, i):\n",
        "                        G[winner_virtue][i][\"weight\"] += 1\n",
        "                    else:\n",
        "                        G.add_edge(winner_virtue, i, weight=1)\n",
        "                        \n",
        "                stories_generated += 1\n",
        "                pbar.update(1)\n",
        "                    \n",
        "            except jsonschema.exceptions.ValidationError as err:\n",
        "                fail_counter += 1\n",
        "                continue\n",
        "    \n",
        "        except json.JSONDecodeError or jsonschema.exceptions.ValidationError as err:\n",
        "            fail_counter += 1\n",
        "            continue\n",
        "        \n",
        "print(f\"Generated {stories_generated} stories (with {fail_counter} fails and retries).\")"
      ],
      "id": "b9b76a2b0e31438a"
    },
    {
      "cell_type": "code",
      "execution_count": 12,
      "metadata": {
        "quarto-private-1": {
          "key": "ExecuteTime",
          "value": {
            "end_time": "2023-10-28T15:03:22.623373Z",
            "start_time": "2023-10-28T15:03:22.436215Z"
          }
        }
      },
      "outputs": [
        {
          "output_type": "display_data",
          "metadata": {},
          "data": {}
        }
      ],
      "source": [],
      "id": "cell-fig-stories-as-graph"
    },
    {
      "cell_type": "code",
      "execution_count": 13,
      "metadata": {
        "quarto-private-1": {
          "key": "ExecuteTime",
          "value": {
            "end_time": "2023-10-28T15:03:26.857027Z",
            "start_time": "2023-10-28T15:03:26.849014Z"
          }
        }
      },
      "outputs": [],
      "source": [
        "df = pd.DataFrame(index = G.nodes(), columns = G.nodes(), dtype=int).fillna(0)\n",
        "\n",
        "for node in G:\n",
        "    for neighbour, attr in G[node].items():\n",
        "        df.loc[node, neighbour] = attr['weight']"
      ],
      "id": "1c243256639c065b"
    },
    {
      "cell_type": "code",
      "execution_count": 14,
      "metadata": {
        "quarto-private-1": {
          "key": "ExecuteTime",
          "value": {
            "end_time": "2023-10-28T15:03:27.578074Z",
            "start_time": "2023-10-28T15:03:27.567524Z"
          }
        }
      },
      "outputs": [
        {
          "output_type": "display_data",
          "metadata": {},
          "data": {
            "text/html": [
              "\n",
              "</div>"
            ]
          }
        }
      ],
      "source": [
        "df"
      ],
      "id": "e2df51b5bb416293"
    },
    {
      "cell_type": "code",
      "execution_count": 15,
      "metadata": {
        "quarto-private-1": {
          "key": "ExecuteTime",
          "value": {
            "end_time": "2023-10-28T15:03:30.468484Z",
            "start_time": "2023-10-28T15:03:30.228215Z"
          }
        }
      },
      "outputs": [
        {
          "output_type": "display_data",
          "metadata": {},
          "data": {}
        }
      ],
      "source": [],
      "id": "cell-fig-moral-heatmap"
    },
    {
      "cell_type": "code",
      "execution_count": 18,
      "metadata": {
        "quarto-private-1": {
          "key": "ExecuteTime",
          "value": {
            "end_time": "2023-10-28T15:09:47.962688Z",
            "start_time": "2023-10-28T15:09:24.179984Z"
          }
        }
      },
      "outputs": [
        {
          "output_type": "display_data",
          "metadata": {},
          "data": {
            "application/vnd.jupyter.widget-view+json": {
              "model_id": "deff26e5d2a0487ea1353dde8cb59612",
              "version_major": 2,
              "version_minor": 0
            }
          }
        }
      ],
      "source": [
        "abilities = [\"Strength\", \"Dexterity\", \"Constitution\", \"Intelligence\", \"Wisdom\", \"Charisma\"]\n",
        "\n",
        "virtues = list(df.index)\n",
        "virtues_to_abilities = {}\n",
        "\n",
        "with tqdm(total=len(virtues)) as pbar:\n",
        "    while virtues:\n",
        "        current_virtue = virtues[-1]\n",
        "    \n",
        "        completion = openai.api_resources.ChatCompletion.create(\n",
        "            model=\"gpt-3.5-turbo\",\n",
        "            messages=[\n",
        "                {\"role\": \"system\",\n",
        "                 \"content\": f\"You are Abiliser, a system designed to determine the governing ability of particular virtues. You are given a virtue and must determine which ability governs it. The abilities are: {', '.join(abilities)}. You must choose from this list. You cannot choose any word that is not in this list. You must respond in the form of a single word denoting the governing ability. For example, if the virtue is courage, you must respond with 'Charisma' If the virtue is 'cleverness', you must respond with 'Intelligence'.\"},\n",
        "                {\"role\": \"user\", \"content\": f\"Virtue: {current_virtue}\"}\n",
        "                ])\n",
        "    \n",
        "        if completion.choices[0].message.content.title() in abilities:\n",
        "            virtues_to_abilities[current_virtue] = completion.choices[0].message.content.title()\n",
        "            virtues.pop()\n",
        "            pbar.update(1)"
      ],
      "id": "cell-abilising"
    },
    {
      "cell_type": "code",
      "execution_count": 19,
      "metadata": {
        "quarto-private-1": {
          "key": "ExecuteTime",
          "value": {
            "end_time": "2023-10-28T15:09:51.023828Z",
            "start_time": "2023-10-28T15:09:51.021357Z"
          }
        }
      },
      "outputs": [
        {
          "output_type": "display_data",
          "metadata": {},
          "data": {
            "text/plain": [
              "{'strength': 'Constitution',\n",
              " 'cunning': 'Intelligence',\n",
              " 'determination': 'Constitution',\n",
              " 'resourcefulness': 'Intelligence',\n",
              " 'sharp vision': 'Dexterity',\n",
              " 'loyalty': 'Wisdom',\n",
              " 'cleverness': 'Intelligence',\n",
              " 'curiosity': 'Intelligence',\n",
              " 'patience': 'Wisdom',\n",
              " 'courage': 'Charisma',\n",
              " 'alertness': 'Wisdom',\n",
              " 'perseverance': 'Constitution',\n",
              " 'speed': 'Dexterity',\n",
              " 'bravery': 'Charisma',\n",
              " 'wisdom': 'Intelligence'}"
            ]
          }
        }
      ],
      "source": [],
      "id": "cell-abilising-mapping"
    },
    {
      "cell_type": "code",
      "execution_count": 20,
      "metadata": {
        "quarto-private-1": {
          "key": "ExecuteTime",
          "value": {
            "end_time": "2023-10-28T15:10:01.678024Z",
            "start_time": "2023-10-28T15:10:01.658978Z"
          }
        }
      },
      "outputs": [
        {
          "output_type": "stream",
          "name": "stderr",
          "text": [
            "/var/folders/7l/9md9kdsj087d62kr6f358bfh0000gp/T/ipykernel_78297/4077426324.py:9: FutureWarning: DataFrame.groupby with axis=1 is deprecated. Do `frame.T.groupby(...)` without axis instead.\n",
            "  df = df.groupby(df.columns, axis=1).sum()"
          ]
        },
        {
          "output_type": "display_data",
          "metadata": {},
          "data": {
            "text/html": [
              "\n",
              "</div>"
            ]
          }
        }
      ],
      "source": [
        "df = pd.DataFrame(index=G.nodes(), columns=G.nodes(), dtype=int).fillna(0)\n",
        "\n",
        "for node in G:\n",
        "    for neighbour, attr in G[node].items():\n",
        "        df.loc[node, neighbour] = attr['weight']\n",
        "\n",
        "df = df.rename(columns=virtues_to_abilities, index=virtues_to_abilities)\n",
        "\n",
        "df = df.groupby(df.columns, axis=1).sum()\n",
        "df = df.groupby(df.index).sum()\n",
        "\n",
        "df"
      ],
      "id": "82ae95e490a32926"
    },
    {
      "cell_type": "code",
      "execution_count": 21,
      "metadata": {
        "quarto-private-1": {
          "key": "ExecuteTime",
          "value": {
            "end_time": "2023-10-28T15:10:03.632825Z",
            "start_time": "2023-10-28T15:10:03.522486Z"
          }
        }
      },
      "outputs": [
        {
          "output_type": "display_data",
          "metadata": {},
          "data": {}
        }
      ],
      "source": [],
      "id": "cell-fig-abilised-moral-heatmap"
    },
    {
      "cell_type": "code",
      "execution_count": 22,
      "metadata": {
        "quarto-private-1": {
          "key": "ExecuteTime",
          "value": {
            "end_time": "2023-10-28T15:33:00.201986Z",
            "start_time": "2023-10-28T15:12:26.508205Z"
          }
        }
      },
      "outputs": [
        {
          "output_type": "display_data",
          "metadata": {},
          "data": {
            "application/vnd.jupyter.widget-view+json": {
              "model_id": "6dc702895c4d420f84df6b201d2735dc",
              "version_major": 2,
              "version_minor": 0
            }
          }
        },
        {
          "output_type": "stream",
          "name": "stdout",
          "text": [
            "Generated 100 stories (with 8 fails and retries)."
          ]
        }
      ],
      "source": [
        "G = nx.DiGraph()\n",
        "\n",
        "num_of_stories: int = 100\n",
        "stories_generated: int = 0\n",
        "fail_counter: int = 0\n",
        "\n",
        "with tqdm(total=num_of_stories) as pbar:\n",
        "    while stories_generated < num_of_stories:\n",
        "        json_completion = openai.api_resources.ChatCompletion.create(\n",
        "            model = \"gpt-3.5-turbo\",\n",
        "            messages = [\n",
        "                {\"role\": \"user\", \"content\": story_prompt.format(wordlen=100) + \n",
        "                 \"\"\"Express your answer in a JSON document that validates against the following schema:\"\"\" + \"\\n\\n\" + \"```json\\n\" + story_schema + \"\\n```\\n\\n\" + \"The 'winner' field should contain the name of the animal whose virtue was most crucial in attaining the goal.\"}\n",
        "                ])\n",
        "        \n",
        "        try:\n",
        "            story = json.loads(json_completion.choices[0].message.content)\n",
        "        \n",
        "            # Validate JSON output against schema\n",
        "            try:\n",
        "                jsonschema.validate(story, json.loads(story_schema))\n",
        "        \n",
        "                winner = story[\"winner\"]\n",
        "                winner_virtue = [i[\"virtue\"].lower() for i in story[\"protagonists\"] if i[\"name\"] == winner][0]\n",
        "                \n",
        "                losers = [i[\"virtue\"].lower() for i in story[\"protagonists\"] if i[\"name\"] != winner]\n",
        "                losing_virtues = [i for i in losers if i != winner_virtue]\n",
        "                \n",
        "                for node in winner_virtue, *losing_virtues:\n",
        "                    if not G.has_node(node):\n",
        "                        G.add_node(node, weight=0)\n",
        "                        \n",
        "                for i in losers:\n",
        "                    if G.has_edge(winner_virtue, i):\n",
        "                        G[winner_virtue][i][\"weight\"] += 1\n",
        "                    else:\n",
        "                        G.add_edge(winner_virtue, i, weight=1)\n",
        "                        \n",
        "                stories_generated += 1\n",
        "                pbar.update(1)\n",
        "                    \n",
        "            except jsonschema.exceptions.ValidationError as err:\n",
        "                fail_counter += 1\n",
        "                continue\n",
        "    \n",
        "        except json.JSONDecodeError or jsonschema.exceptions.ValidationError as err:\n",
        "            fail_counter += 1\n",
        "            continue\n",
        "        \n",
        "print(f\"Generated {stories_generated} stories (with {fail_counter} fails and retries).\")"
      ],
      "id": "36b5246c2a2af7d2"
    },
    {
      "cell_type": "code",
      "execution_count": 27,
      "metadata": {
        "quarto-private-1": {
          "key": "ExecuteTime",
          "value": {
            "end_time": "2023-10-28T16:05:02.235993Z",
            "start_time": "2023-10-28T16:04:05.824618Z"
          }
        }
      },
      "outputs": [
        {
          "output_type": "display_data",
          "metadata": {},
          "data": {
            "application/vnd.jupyter.widget-view+json": {
              "model_id": "aa8fa4db4f044121ad90bf5a2952c12a",
              "version_major": 2,
              "version_minor": 0
            }
          }
        }
      ],
      "source": [
        "df = pd.DataFrame(index=G.nodes(), columns=G.nodes(), dtype=int).fillna(0)\n",
        "\n",
        "for node in G:\n",
        "    for neighbour, attr in G[node].items():\n",
        "        df.loc[node, neighbour] = attr['weight']\n",
        "\n",
        "abilities = [\"Strength\", \"Dexterity\", \"Constitution\", \"Intelligence\", \"Wisdom\", \"Charisma\"]\n",
        "\n",
        "virtues = list(df.index)\n",
        "virtues_to_abilities = {}\n",
        "\n",
        "with tqdm(total=len(virtues)) as pbar:\n",
        "    while virtues:\n",
        "        current_virtue = virtues[-1]\n",
        "    \n",
        "        completion = openai.api_resources.ChatCompletion.create(\n",
        "            model=\"gpt-3.5-turbo\",\n",
        "            messages=[\n",
        "                {\"role\": \"system\",\n",
        "                 \"content\": f\"You are Abiliser, a system designed to determine the governing ability of particular virtues. You are given a virtue and must determine which ability governs it. The abilities are: {', '.join(abilities)}. You must choose from this list. You cannot choose any word that is not in this list. You must respond in the form of a single word denoting the governing ability. For example, if the virtue is courage, you must respond with 'Charisma' If the virtue is 'cleverness', you must respond with 'Intelligence'.\"},\n",
        "                {\"role\": \"user\", \"content\": f\"Virtue: {current_virtue}\"}\n",
        "                ])\n",
        "    \n",
        "        if completion.choices[0].message.content.title() in abilities:\n",
        "            virtues_to_abilities[current_virtue] = completion.choices[0].message.content.title()\n",
        "            virtues.pop()\n",
        "            pbar.update(1)"
      ],
      "id": "50e9c8d04ea888c6"
    },
    {
      "cell_type": "code",
      "execution_count": 28,
      "metadata": {
        "quarto-private-1": {
          "key": "ExecuteTime",
          "value": {
            "end_time": "2023-10-28T16:05:45.209217Z",
            "start_time": "2023-10-28T16:05:45.044030Z"
          }
        }
      },
      "outputs": [
        {
          "output_type": "stream",
          "name": "stderr",
          "text": [
            "/var/folders/7l/9md9kdsj087d62kr6f358bfh0000gp/T/ipykernel_78297/2369364840.py:15: FutureWarning: DataFrame.groupby with axis=1 is deprecated. Do `frame.T.groupby(...)` without axis instead.\n",
            "  df = df.groupby(df.columns, axis=1).sum()"
          ]
        },
        {
          "output_type": "display_data",
          "metadata": {},
          "data": {}
        }
      ],
      "source": [],
      "id": "cell-fig-abilised-big-moral-heatmap"
    },
    {
      "cell_type": "code",
      "execution_count": 31,
      "metadata": {
        "quarto-private-1": {
          "key": "ExecuteTime",
          "value": {
            "end_time": "2023-10-27T01:12:45.791175Z",
            "start_time": "2023-10-27T01:12:25.425570Z"
          }
        }
      },
      "outputs": [],
      "source": [
        "completion = openai.api_resources.ChatCompletion.create(\n",
        "    model=\"gpt-3.5-turbo\",\n",
        "    messages=[\n",
        "        {\"role\": \"user\", \"content\": \"Can you tell me whether intelligence or charisma is more important to achieving great, noble goals?\"}\n",
        "        ])\n",
        "\n",
        "display(Markdown(\">\" + \"\\n>\\n>\".join(completion.choices[0].message.content.split(\"\\n\\n\"))))"
      ],
      "id": "cell-intelligence-vs-charisma"
    }
  ],
  "nbformat": 4,
  "nbformat_minor": 5,
  "metadata": {
    "kernelspec": {
      "name": "python3",
      "display_name": "Python 3",
      "language": "python"
    },
    "language_info": {
      "name": "python",
      "codemirror_mode": {
        "name": "ipython",
        "version": "2"
      },
      "file_extension": ".py",
      "mimetype": "text/x-python",
      "nbconvert_exporter": "python",
      "pygments_lexer": "ipython2",
      "version": "2.7.6"
    }
  }
}