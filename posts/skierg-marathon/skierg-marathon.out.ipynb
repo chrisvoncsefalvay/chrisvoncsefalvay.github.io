{
  "cells": [
    {
      "cell_type": "markdown",
      "metadata": {},
      "source": [
        "# \n",
        "\n",
        "Chris von Csefalvay\n",
        "[![](data:image/png;base64,iVBORw0KGgoAAAANSUhEUgAAABAAAAAQCAYAAAAf8/9hAAAAGXRFWHRTb2Z0d2FyZQBBZG9iZSBJbWFnZVJlYWR5ccllPAAAA2ZpVFh0WE1MOmNvbS5hZG9iZS54bXAAAAAAADw/eHBhY2tldCBiZWdpbj0i77u/IiBpZD0iVzVNME1wQ2VoaUh6cmVTek5UY3prYzlkIj8+IDx4OnhtcG1ldGEgeG1sbnM6eD0iYWRvYmU6bnM6bWV0YS8iIHg6eG1wdGs9IkFkb2JlIFhNUCBDb3JlIDUuMC1jMDYwIDYxLjEzNDc3NywgMjAxMC8wMi8xMi0xNzozMjowMCAgICAgICAgIj4gPHJkZjpSREYgeG1sbnM6cmRmPSJodHRwOi8vd3d3LnczLm9yZy8xOTk5LzAyLzIyLXJkZi1zeW50YXgtbnMjIj4gPHJkZjpEZXNjcmlwdGlvbiByZGY6YWJvdXQ9IiIgeG1sbnM6eG1wTU09Imh0dHA6Ly9ucy5hZG9iZS5jb20veGFwLzEuMC9tbS8iIHhtbG5zOnN0UmVmPSJodHRwOi8vbnMuYWRvYmUuY29tL3hhcC8xLjAvc1R5cGUvUmVzb3VyY2VSZWYjIiB4bWxuczp4bXA9Imh0dHA6Ly9ucy5hZG9iZS5jb20veGFwLzEuMC8iIHhtcE1NOk9yaWdpbmFsRG9jdW1lbnRJRD0ieG1wLmRpZDo1N0NEMjA4MDI1MjA2ODExOTk0QzkzNTEzRjZEQTg1NyIgeG1wTU06RG9jdW1lbnRJRD0ieG1wLmRpZDozM0NDOEJGNEZGNTcxMUUxODdBOEVCODg2RjdCQ0QwOSIgeG1wTU06SW5zdGFuY2VJRD0ieG1wLmlpZDozM0NDOEJGM0ZGNTcxMUUxODdBOEVCODg2RjdCQ0QwOSIgeG1wOkNyZWF0b3JUb29sPSJBZG9iZSBQaG90b3Nob3AgQ1M1IE1hY2ludG9zaCI+IDx4bXBNTTpEZXJpdmVkRnJvbSBzdFJlZjppbnN0YW5jZUlEPSJ4bXAuaWlkOkZDN0YxMTc0MDcyMDY4MTE5NUZFRDc5MUM2MUUwNEREIiBzdFJlZjpkb2N1bWVudElEPSJ4bXAuZGlkOjU3Q0QyMDgwMjUyMDY4MTE5OTRDOTM1MTNGNkRBODU3Ii8+IDwvcmRmOkRlc2NyaXB0aW9uPiA8L3JkZjpSREY+IDwveDp4bXBtZXRhPiA8P3hwYWNrZXQgZW5kPSJyIj8+84NovQAAAR1JREFUeNpiZEADy85ZJgCpeCB2QJM6AMQLo4yOL0AWZETSqACk1gOxAQN+cAGIA4EGPQBxmJA0nwdpjjQ8xqArmczw5tMHXAaALDgP1QMxAGqzAAPxQACqh4ER6uf5MBlkm0X4EGayMfMw/Pr7Bd2gRBZogMFBrv01hisv5jLsv9nLAPIOMnjy8RDDyYctyAbFM2EJbRQw+aAWw/LzVgx7b+cwCHKqMhjJFCBLOzAR6+lXX84xnHjYyqAo5IUizkRCwIENQQckGSDGY4TVgAPEaraQr2a4/24bSuoExcJCfAEJihXkWDj3ZAKy9EJGaEo8T0QSxkjSwORsCAuDQCD+QILmD1A9kECEZgxDaEZhICIzGcIyEyOl2RkgwAAhkmC+eAm0TAAAAABJRU5ErkJggg==)](https://orcid.org/0000-0003-3131-0864)"
      ],
      "id": "551ed5ed-8092-4bc3-8cbc-487968353dd4"
    },
    {
      "cell_type": "code",
      "execution_count": 1,
      "metadata": {},
      "outputs": [],
      "source": [
        "import pandas as pd\n",
        "from matplotlib import pyplot as plt, gridspec, ticker, dates\n",
        "import time\n",
        "import seaborn as sns\n",
        "\n",
        "sns.set_style(\"darkgrid\")"
      ],
      "id": "cell-0"
    },
    {
      "cell_type": "code",
      "execution_count": 2,
      "metadata": {},
      "outputs": [],
      "source": [
        "data = pd.read_csv(\"./posts/skierg-marathon/concept2-result-79965221.csv\")\n"
      ],
      "id": "cell-1"
    },
    {
      "cell_type": "code",
      "execution_count": 3,
      "metadata": {},
      "outputs": [
        {
          "output_type": "display_data",
          "metadata": {},
          "data": {}
        }
      ],
      "source": [
        "fig = plt.figure(figsize=(6, 8), dpi=600)\n",
        "\n",
        "gs = gridspec.GridSpec(3, 1, height_ratios=[2,1,1])\n",
        "gs.update(hspace=0.2)\n",
        "\n",
        "ax1 = plt.subplot(gs[0])\n",
        "ax1.set_ylim(pd.to_datetime(190, unit=\"s\"), pd.to_datetime(130, unit=\"s\"))\n",
        "ax1.plot(data[\"Distance (meters)\"], pd.to_datetime(data[\"Pace (seconds)\"], unit=\"s\"), color=\"#2f4b7c\", alpha=0.3, linewidth=0.5)\n",
        "ax1.plot(data[\"Distance (meters)\"], pd.to_datetime(data[\"Pace (seconds)\"].rolling(33).mean(), unit=\"s\"), color=\"#2f4b7c\", alpha=0.6, linewidth=0.75)\n",
        "ax1.plot(data[\"Distance (meters)\"], pd.to_datetime(data[\"Pace (seconds)\"].rolling(66).mean(), unit=\"s\"), color=\"#2f4b7c\", alpha=0.9, linewidth=1.25)\n",
        "ax1.set_ylabel(\"Pace\")\n",
        "ax1.xaxis.set_visible(False)\n",
        "ax1.yaxis.set_major_formatter(dates.DateFormatter(fmt=\"%M:%S\"))\n",
        "ax1.set_xlim(0, 42195)\n",
        "plt.gca().invert_yaxis()\n",
        "\n",
        "ax2 = plt.subplot(gs[1])\n",
        "ax2.plot(data[\"Distance (meters)\"], data[\"Watts\"], color=\"#2f4b7c\", alpha=0.3, linewidth=0.5)\n",
        "ax2.plot(data[\"Distance (meters)\"], data[\"Watts\"].rolling(33).mean(), color=\"#2f4b7c\", alpha=0.6, linewidth=0.75)\n",
        "ax2.plot(data[\"Distance (meters)\"], data[\"Watts\"].rolling(66).mean(), color=\"#2f4b7c\", alpha=0.9, linewidth=1.25)\n",
        "ax2.set_ylabel(\"Watts\")\n",
        "ax2.set_xlim(0, 42195)\n",
        "ax2.xaxis.set_visible(False)\n",
        "\n",
        "ax3 = plt.subplot(gs[2])\n",
        "ax3.plot(data[\"Distance (meters)\"], data[\"Stroke Rate\"], color=\"#2f4b7c\", alpha=0.3, linewidth=0.5)\n",
        "ax3.plot(data[\"Distance (meters)\"], data[\"Stroke Rate\"].rolling(33).mean(), color=\"#2f4b7c\", alpha=0.6, linewidth=0.75)\n",
        "ax3.plot(data[\"Distance (meters)\"], data[\"Stroke Rate\"].rolling(66).mean(), color=\"#2f4b7c\", alpha=0.9, linewidth=1.25)\n",
        "ax3.set_ylim(30, 55)\n",
        "ax3.set_ylabel(\"spm\")\n",
        "\n",
        "ax3.xaxis.set_major_formatter(ticker.StrMethodFormatter(\"{x:,.0f}\"))\n",
        "ax3.set_xticks(ax3.get_xticks())\n",
        "ax3.set_xticklabels(ax3.get_xticklabels(), rotation=90)\n",
        "ax3.set_xlabel(\"metres\")\n",
        "ax3.set_xlim(0, 42195)\n",
        "\n",
        "plt.show()"
      ],
      "id": "cell-fig-skierg-marathon"
    },
    {
      "cell_type": "code",
      "execution_count": 4,
      "metadata": {},
      "outputs": [],
      "source": [
        "data[\"ddistance\"] = data[\"Distance (meters)\"].diff()\n",
        "data[\"dtime\"] = data[\"Time (seconds)\"].diff()"
      ],
      "id": "cell-3"
    },
    {
      "cell_type": "code",
      "execution_count": 6,
      "metadata": {},
      "outputs": [
        {
          "output_type": "display_data",
          "metadata": {},
          "data": {}
        }
      ],
      "source": [
        "g = sns.jointplot(data=data, \n",
        "                  x=\"dtime\", \n",
        "                  y=\"ddistance\", \n",
        "                  xlim=(0.5, 3), \n",
        "                  ylim=(2, 8), \n",
        "                  color=\"#2f4b7c\", \n",
        "                  kind=\"reg\", \n",
        "                  x_jitter=0.2, \n",
        "                  y_jitter=0.2, \n",
        "                  scatter_kws=dict(alpha=0.3, s=0.2))\n",
        "g.plot_joint(sns.kdeplot, \n",
        "             color=\"#a05195\", \n",
        "             zorder=0, \n",
        "             levels=16, \n",
        "             alpha=0.6, \n",
        "             fill=True)\n",
        "g.set_axis_labels(ylabel=\"$\\Delta_{d}, m$\", \n",
        "                  xlabel=\"$\\Delta_t, s$\")\n",
        "plt.show()"
      ],
      "id": "cell-fig-skierg-marathon-regression"
    }
  ],
  "nbformat": 4,
  "nbformat_minor": 5,
  "metadata": {
    "kernelspec": {
      "name": "python3",
      "display_name": "Python 3 (ipykernel)",
      "language": "python"
    },
    "language_info": {
      "name": "python",
      "codemirror_mode": {
        "name": "ipython",
        "version": "3"
      },
      "file_extension": ".py",
      "mimetype": "text/x-python",
      "nbconvert_exporter": "python",
      "pygments_lexer": "ipython3",
      "version": "3.10.8"
    }
  }
}